{
 "cells": [
  {
   "cell_type": "markdown",
   "metadata": {},
   "source": [
    "See the setup instructions in `setup.md`.\n"
   ]
  },
  {
   "cell_type": "markdown",
   "metadata": {},
   "source": [
    "https://github.com/ml-explore/mlx-examples\n"
   ]
  },
  {
   "cell_type": "code",
   "execution_count": 1,
   "metadata": {},
   "outputs": [],
   "source": [
    "%%capture\n",
    "%pip install --upgrade mlx-lm"
   ]
  },
  {
   "cell_type": "code",
   "execution_count": 2,
   "metadata": {},
   "outputs": [],
   "source": [
    "%%capture\n",
    "import mlx_lm\n",
    "from IPython.display import display, clear_output, Markdown"
   ]
  },
  {
   "cell_type": "code",
   "execution_count": null,
   "metadata": {},
   "outputs": [],
   "source": [
    "# Convert and/or quantize the model\n",
    "\n",
    "# The original model will be downloaded to ~/.cache/huggingface/hub\n",
    "hub_id = 'mlx-community/SmolLM2-1.7B-Instruct'\n",
    "q_bits = 4\n",
    "\n",
    "model_name = hub_id.split('/')[-1]\n",
    "# The converted model will be saved to this directory\n",
    "output_path = f'mlx-community/{model_name}-{q_bits}bit'\n",
    "quantize = True\n",
    "\n",
    "mlx_lm.convert(hf_path=hub_id, mlx_path=output_path, quantize=quantize, q_bits=q_bits)"
   ]
  },
  {
   "cell_type": "code",
   "execution_count": null,
   "metadata": {},
   "outputs": [],
   "source": [
    "# Test the converted model\n",
    "\n",
    "(model, tokenizer) = mlx_lm.load(output_path)\n",
    "\n",
    "system_prompt = \"You are a helpful assistant.\"\n",
    "user_input = \"1+1=\"\n",
    "\n",
    "formatted_prompt = tokenizer.apply_chat_template(\n",
    "    [\n",
    "        # Not all models support the \"system\" role.\n",
    "        # If it's not supported, you can prepend the system prompt to the first \"user\" message.\n",
    "        {\"role\": \"system\", \"content\": system_prompt},\n",
    "        {\"role\": \"user\", \"content\": user_input},\n",
    "        # You can add more \"assistant\" and \"user\" turns to represent the chat history in subsequent interactions\n",
    "    ],\n",
    "    tokenize=False,\n",
    "    add_generation_prompt=True,\n",
    ")\n",
    "\n",
    "\n",
    "def display_stream(generator):\n",
    "  full_response = \"\"\n",
    "  for token in generator:\n",
    "    full_response += token\n",
    "    clear_output(wait=True)\n",
    "    display(Markdown(f\"{full_response}\"))\n",
    "  clear_output(wait=True)\n",
    "  return full_response\n",
    "\n",
    "\n",
    "response_generator = mlx_lm.stream_generate(model, tokenizer, prompt=formatted_prompt, max_tokens=1000)\n",
    "response = display_stream(response_generator)\n",
    "display(Markdown(f\"{response}\"))"
   ]
  },
  {
   "cell_type": "code",
   "execution_count": null,
   "metadata": {},
   "outputs": [],
   "source": []
  }
 ],
 "metadata": {
  "kernelspec": {
   "display_name": ".venv",
   "language": "python",
   "name": "python3"
  },
  "language_info": {
   "codemirror_mode": {
    "name": "ipython",
    "version": 3
   },
   "file_extension": ".py",
   "mimetype": "text/x-python",
   "name": "python",
   "nbconvert_exporter": "python",
   "pygments_lexer": "ipython3",
   "version": "3.12.7"
  }
 },
 "nbformat": 4,
 "nbformat_minor": 2
}
