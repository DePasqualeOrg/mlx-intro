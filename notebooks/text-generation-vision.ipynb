{
 "cells": [
  {
   "cell_type": "markdown",
   "metadata": {},
   "source": [
    "See the setup instructions in `setup.md`.\n"
   ]
  },
  {
   "cell_type": "markdown",
   "metadata": {},
   "source": [
    "https://github.com/Blaizzy/mlx-vlm\n"
   ]
  },
  {
   "cell_type": "code",
   "execution_count": null,
   "metadata": {},
   "outputs": [],
   "source": [
    "%%capture\n",
    "%pip install --upgrade mlx-vlm"
   ]
  },
  {
   "cell_type": "code",
   "execution_count": null,
   "metadata": {},
   "outputs": [],
   "source": [
    "%%capture\n",
    "import mlx.core as mx\n",
    "from mlx_vlm import load, generate\n",
    "from mlx_vlm.prompt_utils import apply_chat_template\n",
    "from mlx_vlm.utils import load_config, stream_generate\n",
    "from IPython.display import Image, display, clear_output, Markdown"
   ]
  },
  {
   "cell_type": "code",
   "execution_count": null,
   "metadata": {},
   "outputs": [],
   "source": [
    "# Load the model\n",
    "model_path = \"mlx-community/Qwen2-VL-2B-Instruct-4bit\"\n",
    "model, processor = load(model_path)\n",
    "config = load_config(model_path)\n",
    "\n",
    "# Prepare input\n",
    "image_urls = [\"http://images.cocodataset.org/val2017/000000039769.jpg\"]\n",
    "prompt = \"Describe this image.\"\n",
    "\n",
    "# Apply chat template\n",
    "formatted_prompt = apply_chat_template(\n",
    "    processor, config, prompt, num_images=len(image_urls)\n",
    ")"
   ]
  },
  {
   "cell_type": "code",
   "execution_count": null,
   "metadata": {},
   "outputs": [],
   "source": [
    "def display_stream(generator):\n",
    "  full_response = \"\"\n",
    "  for token in generator:\n",
    "    full_response += token\n",
    "    clear_output(wait=True)\n",
    "    display(Markdown(f\"{full_response}\"))\n",
    "  clear_output(wait=True)\n",
    "  return full_response"
   ]
  },
  {
   "cell_type": "code",
   "execution_count": null,
   "metadata": {},
   "outputs": [],
   "source": [
    "display(Image(url=image_urls[0]))"
   ]
  },
  {
   "cell_type": "code",
   "execution_count": null,
   "metadata": {},
   "outputs": [],
   "source": [
    "# Generate and display streamed output\n",
    "response_generator = stream_generate(model, processor, image_urls, formatted_prompt, verbose=False)\n",
    "response = display_stream(response_generator)\n",
    "display(Markdown(f\"{response}\"))"
   ]
  },
  {
   "cell_type": "code",
   "execution_count": null,
   "metadata": {},
   "outputs": [],
   "source": [
    "# Generate and display output in one chunk\n",
    "\n",
    "# output = generate(model, processor, image, formatted_prompt, verbose=False)\n",
    "# output"
   ]
  },
  {
   "cell_type": "code",
   "execution_count": null,
   "metadata": {},
   "outputs": [],
   "source": []
  }
 ],
 "metadata": {
  "kernelspec": {
   "display_name": ".venv",
   "language": "python",
   "name": "python3"
  },
  "language_info": {
   "codemirror_mode": {
    "name": "ipython",
    "version": 3
   },
   "file_extension": ".py",
   "mimetype": "text/x-python",
   "name": "python",
   "nbconvert_exporter": "python",
   "pygments_lexer": "ipython3",
   "version": "3.12.7"
  }
 },
 "nbformat": 4,
 "nbformat_minor": 2
}
