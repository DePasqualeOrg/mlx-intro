{
 "cells": [
  {
   "cell_type": "markdown",
   "metadata": {},
   "source": [
    "See the setup instructions in `setup.md`.\n"
   ]
  },
  {
   "cell_type": "markdown",
   "metadata": {},
   "source": [
    "https://github.com/ml-explore/mlx-examples\n"
   ]
  },
  {
   "cell_type": "code",
   "execution_count": null,
   "metadata": {},
   "outputs": [],
   "source": [
    "%%capture\n",
    "%pip install --upgrade mlx-lm"
   ]
  },
  {
   "cell_type": "code",
   "execution_count": null,
   "metadata": {},
   "outputs": [],
   "source": [
    "import mlx_lm\n",
    "from IPython.display import display, clear_output, Markdown"
   ]
  },
  {
   "cell_type": "code",
   "execution_count": null,
   "metadata": {},
   "outputs": [],
   "source": [
    "# The model will be downloaded to ~/.cache/huggingface/hub\n",
    "(model, tokenizer) = mlx_lm.load(\"mlx-community/gemma-3-1b-it-4bit\")\n",
    "\n",
    "# tokenizer.add_special_tokens({'eos_token': '<end_of_turn>'}) # Necessary for Gemma 2\n",
    "\n",
    "# system_prompt = \"You are a helpful assistant.\"\n",
    "# user_input = \"What are the advantages of running machine learning models locally on the user's device?\"\n",
    "\n",
    "user_input = \"What are the advantages of running machine learning models locally?\"\n",
    "\n",
    "formatted_prompt = tokenizer.apply_chat_template(\n",
    "    [\n",
    "        # Not all models support the \"system\" role.\n",
    "        # If it's not supported, you can prepend the system prompt to the first \"user\" message.\n",
    "        # {\"role\": \"system\", \"content\": system_prompt},\n",
    "        {\"role\": \"user\", \"content\": user_input},\n",
    "        # You can add more \"assistant\" and \"user\" turns to represent the chat history in subsequent interactions\n",
    "    ],\n",
    "    tokenize=False,\n",
    "    add_generation_prompt=True,\n",
    ")"
   ]
  },
  {
   "cell_type": "code",
   "execution_count": null,
   "metadata": {},
   "outputs": [],
   "source": [
    "# Generate and display streamed output\n",
    "\n",
    "def display_stream(generator):\n",
    "    full_response = \"\"\n",
    "    for response in generator:\n",
    "        token = response.text\n",
    "        full_response += token\n",
    "        clear_output(wait=True)\n",
    "        display(Markdown(f\"{full_response}\"))\n",
    "    clear_output(wait=True)\n",
    "    return full_response\n",
    "\n",
    "\n",
    "response_generator = mlx_lm.stream_generate(model, tokenizer, prompt=formatted_prompt, max_tokens=1000)\n",
    "response = display_stream(response_generator)\n",
    "\n",
    "display(Markdown(f\"{response}\"))"
   ]
  },
  {
   "cell_type": "code",
   "execution_count": null,
   "metadata": {},
   "outputs": [],
   "source": [
    "# Generate and display output in one chunk\n",
    "\n",
    "# response = mlx_lm.generate(model, tokenizer, prompt=formatted_prompt, max_tokens=100)\n",
    "\n",
    "# display(Markdown(f\"{response}\"))"
   ]
  },
  {
   "cell_type": "code",
   "execution_count": null,
   "metadata": {},
   "outputs": [],
   "source": []
  },
  {
   "cell_type": "code",
   "execution_count": null,
   "metadata": {},
   "outputs": [],
   "source": []
  }
 ],
 "metadata": {},
 "nbformat": 4,
 "nbformat_minor": 2
}
