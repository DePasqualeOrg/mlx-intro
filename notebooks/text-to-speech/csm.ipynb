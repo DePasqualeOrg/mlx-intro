{
 "cells": [
  {
   "cell_type": "code",
   "execution_count": null,
   "metadata": {},
   "outputs": [],
   "source": [
    "%%capture\n",
    "%pip install --upgrade git+https://github.com/senstella/csm-mlx\n",
    "%pip install --upgrade mlx-lm huggingface_hub torch torchaudio scipy"
   ]
  },
  {
   "cell_type": "code",
   "execution_count": null,
   "metadata": {},
   "outputs": [],
   "source": [
    "from mlx import nn\n",
    "from mlx_lm.sample_utils import make_sampler\n",
    "from huggingface_hub import hf_hub_download\n",
    "from csm_mlx import CSM, csm_1b, generate\n",
    "from scipy.io import wavfile\n",
    "import numpy as np"
   ]
  },
  {
   "cell_type": "code",
   "execution_count": null,
   "metadata": {},
   "outputs": [],
   "source": [
    "# Initialize the model\n",
    "csm = CSM(csm_1b())  # csm_1b() is a configuration for the CSM model.\n",
    "weight = hf_hub_download(repo_id=\"senstella/csm-1b-mlx\", filename=\"ckpt.safetensors\")\n",
    "csm.load_weights(weight)\n",
    "\n",
    "# Quantize\n",
    "# nn.quantize(csm, bits=4)\n",
    "\n",
    "# Generate audio from text\n",
    "audio = generate(\n",
    "    csm,\n",
    "    text=\"In the heart of a bustling city stood an ancient stone wall that most people hurried past without a second glance. Behind this wall, hidden from view, lay a forgotten garden that had once been the pride of the neighborhood. One rainy Tuesday morning, Emma, a young librarian with a passion for history, noticed a small wooden door in the wall that she'd somehow never seen before. Curiosity getting the better of her, she pushed against it gently, surprised when it creaked open.\",\n",
    "    speaker=0,\n",
    "    context=[],\n",
    "    max_audio_length_ms=60_000,\n",
    "    sampler=make_sampler(temp=0.8, top_k=50), # Put mlx_lm's sampler here! Supports: temp, top_p, min_p, min_tokens_to_keep, top_k.\n",
    "    # Additionally, you can provide `stream` argument to specify what device to use for generation.\n",
    "    # https://ml-explore.github.io/mlx/build/html/usage/using_streams.html\n",
    ")\n",
    "\n",
    "# Convert to int16 format (standard for WAV files)\n",
    "# Scale to int16 range and convert\n",
    "audio_int16 = (np.asarray(audio) * 32767).astype(np.int16)\n",
    "\n",
    "# Write using scipy.io.wavfile\n",
    "wavfile.write(\"./output/audio.wav\", 24000, audio_int16)"
   ]
  },
  {
   "cell_type": "code",
   "execution_count": null,
   "metadata": {},
   "outputs": [],
   "source": []
  },
  {
   "cell_type": "code",
   "execution_count": null,
   "metadata": {},
   "outputs": [],
   "source": []
  }
 ],
 "metadata": {},
 "nbformat": 4,
 "nbformat_minor": 2
}
