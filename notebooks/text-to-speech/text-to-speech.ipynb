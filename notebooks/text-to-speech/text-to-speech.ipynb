{
 "cells": [
  {
   "cell_type": "markdown",
   "metadata": {},
   "source": [
    "See the setup instructions in `setup.md`.\n"
   ]
  },
  {
   "cell_type": "markdown",
   "metadata": {},
   "source": [
    "https://github.com/lucasnewman/f5-tts-mlx/tree/main\n"
   ]
  },
  {
   "cell_type": "code",
   "execution_count": null,
   "metadata": {},
   "outputs": [],
   "source": [
    "%%capture\n",
    "%pip install --upgrade -r requirements.txt"
   ]
  },
  {
   "cell_type": "code",
   "execution_count": null,
   "metadata": {},
   "outputs": [],
   "source": [
    "%%capture\n",
    "import mlx.core as mx\n",
    "import numpy as np\n",
    "from f5_tts_mlx.generate import generate\n",
    "import soundfile as sf\n",
    "import os\n",
    "from IPython.display import Audio"
   ]
  },
  {
   "cell_type": "markdown",
   "metadata": {},
   "source": [
    "**Generate with default voice**\n"
   ]
  },
  {
   "cell_type": "code",
   "execution_count": null,
   "metadata": {},
   "outputs": [],
   "source": [
    "text = \"This was generated on my Mac using MLX and F5 TTS.\"\n",
    "output_path = \"output/default_voice.wav\"\n",
    "os.makedirs(os.path.dirname(output_path), exist_ok=True)\n",
    "generate(generation_text=text, output_path=output_path)\n",
    "\n",
    "# Audio player\n",
    "audio_data, sample_rate = sf.read(output_path)\n",
    "Audio(filename=output_path, rate=sample_rate)"
   ]
  },
  {
   "cell_type": "markdown",
   "metadata": {},
   "source": [
    "**Generate with reference audio**\n",
    "\n",
    "First you'll need to record an audio sample, save it as a .wav file at `ref_audio_path`, and transcribe the spoken text from the sample in `ref_text`.\n",
    "\n",
    "You can convert a .m4a file to .wav like this:\n",
    "\n",
    "```bash\n",
    "ffmpeg -i sample.m4a sample.wav\n",
    "```\n"
   ]
  },
  {
   "cell_type": "code",
   "execution_count": null,
   "metadata": {},
   "outputs": [],
   "source": [
    "text = \"This was generated on my Mac using MLX and F5 TTS.\"\n",
    "ref_text = \"This is a test using an audio sample.\"\n",
    "ref_audio_path = \"samples/sample.wav\"\n",
    "output_path = \"output/from_reference_audio.wav\"\n",
    "os.makedirs(os.path.dirname(output_path), exist_ok=True)\n",
    "generate(text, ref_audio_path=ref_audio_path, ref_audio_text=ref_text, output_path=output_path)\n",
    "\n",
    "# Audio player\n",
    "audio_data, sample_rate = sf.read(output_path)\n",
    "Audio(filename=output_path, rate=sample_rate)"
   ]
  }
 ],
 "metadata": {
  "kernelspec": {
   "display_name": ".venv",
   "language": "python",
   "name": "python3"
  },
  "language_info": {
   "codemirror_mode": {
    "name": "ipython",
    "version": 3
   },
   "file_extension": ".py",
   "mimetype": "text/x-python",
   "name": "python",
   "nbconvert_exporter": "python",
   "pygments_lexer": "ipython3",
   "version": "3.12.7"
  }
 },
 "nbformat": 4,
 "nbformat_minor": 2
}
